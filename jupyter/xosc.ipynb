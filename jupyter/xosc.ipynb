{
 "cells": [
  {
   "attachments": {},
   "cell_type": "markdown",
   "metadata": {},
   "source": [
    "# Crystal oscillator\n",
    "\n",
    "A crystal is a piezo electric device, mechanical forces convert to a voltage and visa versa.\n",
    "\n",
    "The great thing about crystals is that the mechanical resonance is accurate, relatively independent of environmental conditions, and has a high quality factor.\n",
    "\n",
    "A common model of the crystal is shown below\n",
    "\n",
    "![](../media/xosc_model.svg)"
   ]
  },
  {
   "attachments": {},
   "cell_type": "markdown",
   "metadata": {},
   "source": [
    "## Am I wrong?\n",
    "\n",
    "I have a problem with calculating input impedances and transfer functions . I don't trust my own brain when it comes the algebra of expanding symbolic functions. \n",
    "\n",
    "In [The Crystal Oscillator](https://ieeexplore.ieee.org/document/7954123) the input impedance is reported as (assuming $R_s = 0$)\n",
    "\n",
    "$$ Z_{in} \\approx \\frac{L C_F s^2 + 1}{L C_F C_p s^2 + C_F + C_P}$$\n",
    "\n",
    "When I compute $Z_{in}$ by hand I got \n",
    "\n",
    "$$ Z_{in} = \\frac{s^2 C_F L + 1}{s^3 C_P L C_F + s C_P + s C_F}$$\n",
    "\n",
    "So did I do it wrong? \n",
    "\n",
    "## Enter [Sympy](https://docs.sympy.org/latest/index.html)\n",
    "Python is fantastic, especially the libraries. Imagine that someone has spent their time on making a symbolic library. \n",
    "\n",
    "Computers are fantastic at mundane algorithms like algebra. I love to use computers to verify whether I'm right or wrong."
   ]
  },
  {
   "cell_type": "code",
   "execution_count": 87,
   "metadata": {},
   "outputs": [
    {
     "data": {
      "text/latex": [
       "$\\displaystyle \\frac{C_{F} L s^{2}}{C_{F} C_{P} L s^{3} + C_{F} C_{P} R s^{2} + C_{F} s + C_{P} s} + \\frac{C_{F} R s}{C_{F} C_{P} L s^{3} + C_{F} C_{P} R s^{2} + C_{F} s + C_{P} s} + \\frac{1}{C_{F} C_{P} L s^{3} + C_{F} C_{P} R s^{2} + C_{F} s + C_{P} s}$"
      ],
      "text/plain": [
       "C_F*L*s**2/(C_F*C_P*L*s**3 + C_F*C_P*R*s**2 + C_F*s + C_P*s) + C_F*R*s/(C_F*C_P*L*s**3 + C_F*C_P*R*s**2 + C_F*s + C_P*s) + 1/(C_F*C_P*L*s**3 + C_F*C_P*R*s**2 + C_F*s + C_P*s)"
      ]
     },
     "execution_count": 87,
     "metadata": {},
     "output_type": "execute_result"
    }
   ],
   "source": [
    "from sympy import symbols,expand,simplify,solve\n",
    "\n",
    "#- Define the symbols\n",
    "Gin,Zin, s,Cf,L,Cp,R,Z = symbols(\"G_{in} Z_{in} s C_F L C_P R Z\")\n",
    "\n",
    "#- Compute impedance\n",
    "Gin = 1/(R + s*L + 1/(s*Cf)) + s*Cp\n",
    "Zin = expand(simplify(1/Gin))\n",
    "Zin"
   ]
  },
  {
   "cell_type": "code",
   "execution_count": 88,
   "metadata": {},
   "outputs": [
    {
     "data": {
      "text/latex": [
       "$\\displaystyle \\frac{C_{F} L s^{2}}{C_{F} C_{P} L s^{3} + C_{F} s + C_{P} s} + \\frac{1}{C_{F} C_{P} L s^{3} + C_{F} s + C_{P} s}$"
      ],
      "text/plain": [
       "C_F*L*s**2/(C_F*C_P*L*s**3 + C_F*s + C_P*s) + 1/(C_F*C_P*L*s**3 + C_F*s + C_P*s)"
      ]
     },
     "execution_count": 88,
     "metadata": {},
     "output_type": "execute_result"
    }
   ],
   "source": [
    "Zin.subs({R:0})"
   ]
  },
  {
   "attachments": {},
   "cell_type": "markdown",
   "metadata": {},
   "source": [
    "Nope, I did the algebra right. And probably so was Bezhad. Is my initial setup of the equations wrong?\n",
    "\n",
    "Next, check the Impedance with some values, for example $C_F = 5$ fF, $C_P = 5$ pF, $L = 50$ mH, and plot the result."
   ]
  },
  {
   "cell_type": "code",
   "execution_count": 84,
   "metadata": {},
   "outputs": [
    {
     "data": {
      "image/png": "[encoded data removed]",
      "text/plain": [
       "<Figure size 640x480 with 1 Axes>"
      ]
     },
     "metadata": {},
     "output_type": "display_data"
    }
   ],
   "source": [
    "import matplotlib.pyplot as plt\n",
    "import numpy as np\n",
    "from sympy.utilities.lambdify import lambdify\n",
    "\n",
    "#- Evaluate for some numerical values\n",
    "Z = Zin.subs({R:1,Cf:5e-15,Cp:5e-12,L:50e-3})\n",
    "\n",
    "#- Translate to numpy \n",
    "f = np.linspace(10e6,10.15e6,100)\n",
    "w = 1j*2*np.pi*f\n",
    "func = lambdify(s, Z,'numpy') \n",
    "Znum = func(w)\n",
    "\n",
    "plt.plot(f*1e-6,20*np.log10(np.abs(Znum)))\n",
    "plt.xlabel(\"Frequency [MHz]\")\n",
    "plt.ylabel(\"Magnitude\")\n",
    "pass"
   ]
  },
  {
   "attachments": {},
   "cell_type": "markdown",
   "metadata": {},
   "source": [
    "## Discovery\n",
    "\n",
    "Nope, I did everything right. The reason Bezhad ignores the $1/s$ is that when we look close to the resonances the impedance of the $1/sCp$ does not change much, so we can ignore."
   ]
  }
 ],
 "metadata": {
  "kernelspec": {
   "display_name": "Python 3",
   "language": "python",
   "name": "python3"
  },
  "language_info": {
   "codemirror_mode": {
    "name": "ipython",
    "version": 3
   },
   "file_extension": ".py",
   "mimetype": "text/x-python",
   "name": "python",
   "nbconvert_exporter": "python",
   "pygments_lexer": "ipython3",
   "version": "3.10.9"
  },
  "orig_nbformat": 4
 },
 "nbformat": 4,
 "nbformat_minor": 2
}
