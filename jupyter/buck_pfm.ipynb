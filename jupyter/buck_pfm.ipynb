{
 "cells": [
  {
   "attachments": {},
   "cell_type": "markdown",
   "id": "90e6fe83-ab65-4508-9382-b3d0b520b7d4",
   "metadata": {},
   "source": [
    "# Buck in pulsed frequency mode\n",
    "\n",
    "Take a look at the [Buck model](buck.ipynb) first, it will make this model easier to understand.\n",
    "\n",
    "Assume a buck pulsed frequency mode converter as shown below.\n",
    "\n",
    "![](../media/l9_sw_arch.svg)\n",
    "\n",
    "Setup the variables, and the state vectors"
   ]
  },
  {
   "cell_type": "code",
   "execution_count": 87,
   "id": "a1aaadb5-4ab2-41d8-bbe9-4246a85508e6",
   "metadata": {},
   "outputs": [],
   "source": [
    "import numpy as np\n",
    "u = 1e-6                        # A micro unit\n",
    "L = 5 * u                       # 1 uH\n",
    "Rs = 1                          # Resistance in switches\n",
    "C = 1 * u                       # 1 uF\n",
    "R = 100000                        # Load resistor\n",
    "VDDH = 1.8                      # VDD voltage\n",
    "VO_initial = 0.99                  # Initial output voltage\n",
    "VREF = 1.0                      # Wanted output voltage\n",
    "N = 2**18                       # Number of samples\n",
    "t_end = 10e-3                    # Time to simulate\n",
    "t_switch = 0.5e-6               # PMOS switch on time"
   ]
  },
  {
   "cell_type": "code",
   "execution_count": 88,
   "id": "d9f5f413",
   "metadata": {},
   "outputs": [],
   "source": [
    "t = np.linspace(0,t_end,num=N)      # Time vector\n",
    "vo = np.ones(N)*VO_initial      # Output voltage\n",
    "ix = np.zeros(N)                # Current in inductor\n",
    "vx = np.zeros(N)                # Voltage across inductor\n",
    "v1 = np.zeros(N)                # Voltage at left side of inductor\n",
    "io = np.zeros(N)                # Current drawn from output\n",
    "ivdd = np.zeros(N)              # Current drawn from VDD"
   ]
  },
  {
   "attachments": {},
   "cell_type": "markdown",
   "id": "e931236d",
   "metadata": {},
   "source": [
    "Assume the following state machine\n",
    "\n",
    "![](../media/l9_sw_state.svg)"
   ]
  },
  {
   "attachments": {},
   "cell_type": "markdown",
   "id": "0ff68bec",
   "metadata": {},
   "source": [
    "If the output voltage is lower than VREF then turn on the PMOS for t_switch time.\n",
    "\n",
    "If the current in the inductor is less than 0 (equivalent to zero voltage across NMOS), then turn off the NMOS."
   ]
  },
  {
   "cell_type": "code",
   "execution_count": 89,
   "id": "d06f85cb",
   "metadata": {},
   "outputs": [],
   "source": [
    "\n",
    "state = 0  #0 = IDLE, 1 = UP, DWN = 2\n",
    "t_start = 0\n",
    "for i in range(1,N):\n",
    "    ts = t[i] \n",
    "\n",
    "    # Delta time\n",
    "    dt = (t[i]-t[i-1])\n",
    "\n",
    "    #Voltage across the inductor\n",
    "    if(state == 0): # IDLE\n",
    "        pmos = 0\n",
    "        vx[i] = -100*ix[i-1] # Want to model a high impedance. This works, but a bit nasty\n",
    "        if(vo[i-1] < VREF):\n",
    "            state = 1\n",
    "            t_start = ts\n",
    "    elif(state == 1): # UP (PMOS on)\n",
    "        vx[i] = VDDH - Rs*ix[i-1] - vo[i-1] \n",
    "        pmos = 1\n",
    "        if(ts - t_start > t_switch):\n",
    "            state = 2\n",
    "    elif(state == 2): # DOWN (NMOS on)\n",
    "        pmos = 0\n",
    "        vx[i] = 0 - Rs*ix[i-1] - vo[i-1] \n",
    "        if(ix[i-1] < 0):\n",
    "            state = 0\n",
    "\n",
    "    # Current in inductor, use trapezoidal approximation of area\n",
    "    ix[i] = ix[i-1] + 1/L * (vx[i] + vx[i-1])/2*dt \n",
    "\n",
    "    if(pmos):\n",
    "        ivdd[i] = ix[i]\n",
    "\n",
    "    # Output current\n",
    "    io[i] = 1/R * vo[i]\n",
    "\n",
    "    # Output voltage\n",
    "    vo[i] = vo[i-1] + 1/C * ( (ix[i] + ix[i-1])/2 - (io[i] + io[i-1])/2)*dt\n"
   ]
  },
  {
   "cell_type": "code",
   "execution_count": 90,
   "id": "2e33b1fa",
   "metadata": {},
   "outputs": [
    {
     "data": {
      "image/png": "[encoded data removed]",
      "text/plain": [
       "<Figure size 640x480 with 2 Axes>"
      ]
     },
     "metadata": {},
     "output_type": "display_data"
    }
   ],
   "source": [
    "import matplotlib.pyplot as plt\n",
    "plt.subplot(1,2,1)\n",
    "plt.plot(t/u,ix,label=\"Ix\")\n",
    "plt.plot(t/u,io,label=\"Io\")\n",
    "plt.legend()\n",
    "plt.xlabel(\"Time [us]\")\n",
    "plt.subplot(1,2,2)\n",
    "plt.plot(t/u,vo)\n",
    "plt.ylabel(\"vo\")\n",
    "plt.xlabel(\"Time [us]\")\n",
    "plt.tight_layout()\n",
    "plt.savefig(\"../media/l07_buck_pfm_fig.svg\")"
   ]
  },
  {
   "cell_type": "code",
   "execution_count": 91,
   "id": "81097e1f",
   "metadata": {},
   "outputs": [
    {
     "name": "stdout",
     "output_type": "stream",
     "text": [
      "Output voltage =  1015 mV\n",
      "Inductor current = 0.007223 mA\n",
      "Load current = 0.0099 mA\n",
      "VDDH current = 0.00442 mA\n",
      "VDDH Power = 0.007955 mW\n",
      "VO Power = 0.01005 mW\n",
      "Efficiency = 126.3 pct\n"
     ]
    }
   ],
   "source": [
    "vo_avg = np.mean(vo[int(N/2):])\n",
    "ix_avg = np.mean(ix[int(N/2):])\n",
    "io_avg = np.mean(io[int(N/2):])\n",
    "ivdd_avg = np.mean(ivdd[int(N/2):])\n",
    "pwr_vdd = ivdd_avg*VDDH\n",
    "pwr_vo = vo_avg*io_avg\n",
    "efficiency = pwr_vo/pwr_vdd*100\n",
    "m = 1e-3\n",
    "print(\"Output voltage =  %.4g mV\" % (vo_avg/m))\n",
    "print(\"Inductor current = %.4g mA\" % (ix_avg/m))\n",
    "print(\"Load current = %.4g mA\" % (io_avg/m))\n",
    "print(\"VDDH current = %.4g mA\" % (ivdd_avg/m))\n",
    "print(\"VDDH Power = %.4g mW\" % (pwr_vdd/m))\n",
    "print(\"VO Power = %.4g mW\" % (pwr_vo/m))\n",
    "print(\"Efficiency = %.4g pct\" % (efficiency))\n"
   ]
  }
 ],
 "metadata": {
  "kernelspec": {
   "display_name": "Python 3",
   "language": "python",
   "name": "python3"
  },
  "language_info": {
   "codemirror_mode": {
    "name": "ipython",
    "version": 3
   },
   "file_extension": ".py",
   "mimetype": "text/x-python",
   "name": "python",
   "nbconvert_exporter": "python",
   "pygments_lexer": "ipython3",
   "version": "3.10.9"
  },
  "vscode": {
   "interpreter": {
    "hash": "aee8b7b246df8f9039afb4144a1f6fd8d2ca17a180786b69acc140d282b71a49"
   }
  }
 },
 "nbformat": 4,
 "nbformat_minor": 5
}
